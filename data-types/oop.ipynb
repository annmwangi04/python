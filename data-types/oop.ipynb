{
 "cells": [
  {
   "cell_type": "code",
   "execution_count": null,
   "metadata": {},
   "outputs": [],
   "source": [
    "print(\"hello\")"
   ]
  },
  {
   "cell_type": "code",
   "execution_count": 19,
   "metadata": {},
   "outputs": [
    {
     "name": "stdout",
     "output_type": "stream",
     "text": [
      "Alaska\n",
      "Alaska\n",
      "2\n",
      "Good morning, my color is White. My age is 15.I live in Alaska\n"
     ]
    }
   ],
   "source": [
    "class Animal:\n",
    "    location =\"Alaska\"\n",
    "    number_of_Objects = 0\n",
    "    def __init__(self, color, age):\n",
    "        self.color = color\n",
    "        self.age = age\n",
    "        Animal.number_of_Objects += 1\n",
    "        # self is the current object created\n",
    "        # __init__ is a method used to initialize attributes of a class\n",
    "\n",
    "    def talk(self, time):\n",
    "        print(f\"Good {time}, my color is {self.color}. My age is {self.age}.I live in {Animal.location}\")\n",
    "\n",
    "    #def __del__(self):\n",
    "        #Animal.number_of_objects -= 1 to reduce it\n",
    "        #print(f\"Deleated animal with color{self.color}\") used to overide \n",
    "# Create instances of the class\n",
    "myAnimal = Animal(\"Black\", 20)\n",
    "animal2 = Animal(\"White\", 15)\n",
    "print(myAnimal.location)\n",
    "print(animal2.location)\n",
    "print(animal2.number_of_Objects)\n",
    "\n",
    "#del animal2 when you want to delete an object\n",
    "\n",
    "# Call the talk method\n",
    "animal2.talk(\"morning\")\n"
   ]
  }
 ],
 "metadata": {
  "kernelspec": {
   "display_name": "venv",
   "language": "python",
   "name": "python3"
  },
  "language_info": {
   "codemirror_mode": {
    "name": "ipython",
    "version": 3
   },
   "file_extension": ".py",
   "mimetype": "text/x-python",
   "name": "python",
   "nbconvert_exporter": "python",
   "pygments_lexer": "ipython3",
   "version": "3.13.1"
  }
 },
 "nbformat": 4,
 "nbformat_minor": 2
}
