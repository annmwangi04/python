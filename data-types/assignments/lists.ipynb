{
 "cells": [
  {
   "cell_type": "code",
   "execution_count": 1,
   "metadata": {},
   "outputs": [
    {
     "name": "stdout",
     "output_type": "stream",
     "text": [
      "[8, 14, 9, 12, 7, 9]\n"
     ]
    }
   ],
   "source": [
    "def sum_matching_indices(l1, l2):\n",
    "    result = []\n",
    "    min_length = min(len(l1), len(l2))\n",
    "    for i in range(min_length):\n",
    "        result.append(l1[i] + l2[i])\n",
    "    \n",
    "   \n",
    "    if len(l1) > len(l2):\n",
    "        result.extend(l1[min_length:])\n",
    "    else:\n",
    "        result.extend(l2[min_length:])\n",
    "    \n",
    "    return result\n",
    "\n",
    "l1 = [3, 5, 6, 7]\n",
    "l2 = [5, 9, 3, 5, 7, 9]\n",
    "r = sum_matching_indices(l1, l2)\n",
    "print(r)\n"
   ]
  },
  {
   "cell_type": "code",
   "execution_count": null,
   "metadata": {},
   "outputs": [],
   "source": [
    "def sum_matching_indices(l1, l2):\n",
    "    # Create an empty list to store the result\n",
    "    result = []\n",
    "\n",
    "    # Get the length of both lists\n",
    "    len1 = len(l1)\n",
    "    len2 = len(l2)\n",
    "\n",
    "    # Use a loop to go through both lists\n",
    "    for i in range(max(len1, len2)):\n",
    "        # If both lists have a value at this index, add them\n",
    "        if i < len1 and i < len2:\n",
    "            result.append(l1[i] + l2[i])\n",
    "        # If only l1 has a value at this index, add it\n",
    "        elif i < len1:\n",
    "            result.append(l1[i])\n",
    "        # If only l2 has a value at this index, add it\n",
    "        elif i < len2:\n",
    "            result.append(l2[i])\n",
    "    \n",
    "    return result\n",
    "\n",
    "# Example usage\n",
    "l1 = [3, 5, 6, 7]\n",
    "l2 = [5, 9, 3, 5, 7, 9]\n",
    "r = sum_matching_indices(l1, l2)\n",
    "print(r)  # Output: [8, 14, 9, 12, 7, 9]\n"
   ]
  },
  {
   "cell_type": "code",
   "execution_count": null,
   "metadata": {},
   "outputs": [],
   "source": [
    "print(\"hello\")"
   ]
  }
 ],
 "metadata": {
  "kernelspec": {
   "display_name": "venv",
   "language": "python",
   "name": "python3"
  },
  "language_info": {
   "codemirror_mode": {
    "name": "ipython",
    "version": 3
   },
   "file_extension": ".py",
   "mimetype": "text/x-python",
   "name": "python",
   "nbconvert_exporter": "python",
   "pygments_lexer": "ipython3",
   "version": "3.13.1"
  }
 },
 "nbformat": 4,
 "nbformat_minor": 2
}
