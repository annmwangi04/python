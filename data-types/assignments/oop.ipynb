{
 "cells": [
  {
   "cell_type": "code",
   "execution_count": 21,
   "metadata": {},
   "outputs": [
    {
     "name": "stdout",
     "output_type": "stream",
     "text": [
      "This book 'Goosebumps' has been borrowed\n",
      "This book 'Goosebumps' is already borrowed\n"
     ]
    }
   ],
   "source": [
    "class Book:\n",
    "    def __init__(self, title, author, book_no ):\n",
    "        self.title = title\n",
    "        self.author = author\n",
    "        self.book_no = book_no\n",
    "        self.is_borrowed = False\n",
    "\n",
    "    def borrow(self):\n",
    "        # Marks the book as borrowed.\n",
    "        if not self.is_borrowed:\n",
    "            self.is_borrowed = True\n",
    "            return f\"This book '{self.title}' has been borrowed\"\n",
    "        else:\n",
    "            return f\"This book '{self.title}' is already borrowed\"\n",
    "        \n",
    "    def return_book(self):\n",
    "        # Marks the book as returned.\n",
    "        if self.is_borrowed:\n",
    "            self.is_borrowed = False\n",
    "            return f\"This book '{self.title}' has not been returned\"\n",
    "        else:\n",
    "            return f\"This book '{self.title}' was not borrowed\"\n",
    "        \n",
    "    def __str__(self):\n",
    "        # Returns a string representation of the book.\n",
    "        Status = \"Borrowed\" if self.is_borrowed else \"Available\"\n",
    "        return f\"Book No: {self.book_no}, Title: '{self.title}', Author: {self.author},Status:{Status}\"\n",
    "book = Book(\"Goosebumps\", \"R.L.Stine\", 70) \n",
    "print(book.borrow())\n",
    "print(book.borrow())\n",
    "# class Member:\n",
    "#     def __init__(self,name,member_id):\n",
    "#         self.name = name\n",
    "#         self.member_id = member_id\n",
    "#         self.is_borrowed =[]\n",
    "\n",
    "#     def borrow_book(self, book):\n",
    "#         if book.borrow():\n",
    "#             self.borrowed_books.append(book)\n",
    "#             return f\"Book '{book.title}' has been borrowed by {self.name}.\"\n",
    "#         return f\"Book '{book.title}' is already borrowed by {self.name}.\"\n",
    "    \n",
    "#     def return_book(self, book):\n",
    "\n",
    "#  # member to return a borrowed book."
   ]
  },
  {
   "cell_type": "code",
   "execution_count": null,
   "metadata": {},
   "outputs": [],
   "source": [
    "print(\"hello\")"
   ]
  }
 ],
 "metadata": {
  "kernelspec": {
   "display_name": "venv",
   "language": "python",
   "name": "python3"
  },
  "language_info": {
   "codemirror_mode": {
    "name": "ipython",
    "version": 3
   },
   "file_extension": ".py",
   "mimetype": "text/x-python",
   "name": "python",
   "nbconvert_exporter": "python",
   "pygments_lexer": "ipython3",
   "version": "3.13.1"
  }
 },
 "nbformat": 4,
 "nbformat_minor": 2
}
