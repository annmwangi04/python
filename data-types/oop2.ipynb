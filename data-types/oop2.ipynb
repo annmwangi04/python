{
 "cells": [
  {
   "cell_type": "code",
   "execution_count": null,
   "metadata": {},
   "outputs": [],
   "source": [
    "print(\"home\")"
   ]
  },
  {
   "cell_type": "code",
   "execution_count": 3,
   "metadata": {},
   "outputs": [
    {
     "name": "stdout",
     "output_type": "stream",
     "text": [
      "Africa\n"
     ]
    }
   ],
   "source": [
    "class Animal:\n",
    "    def __init__(self, location):\n",
    "        self.location = location\n",
    "\n",
    "    def produceSound(self):\n",
    "        pass   \n",
    "\n",
    "# Define the Cat class outside of Animal's __init__ method\n",
    "class Cat(Animal):\n",
    "    def __init__(self, location, color):\n",
    "        super().__init__(location)\n",
    "        self.color = color\n",
    "\n",
    "class Cow(Animal):\n",
    "\n",
    "\n",
    "# Instantiate the objects\n",
    "animal = Animal(\"Alaska\")\n",
    "cat1 = Cat(\"Africa\",\"Grey\")\n",
    "\n",
    "# Print the location of the cat\n",
    "print(cat1.location)\n"
   ]
  }
 ],
 "metadata": {
  "kernelspec": {
   "display_name": "venv",
   "language": "python",
   "name": "python3"
  },
  "language_info": {
   "codemirror_mode": {
    "name": "ipython",
    "version": 3
   },
   "file_extension": ".py",
   "mimetype": "text/x-python",
   "name": "python",
   "nbconvert_exporter": "python",
   "pygments_lexer": "ipython3",
   "version": "3.13.1"
  }
 },
 "nbformat": 4,
 "nbformat_minor": 2
}
